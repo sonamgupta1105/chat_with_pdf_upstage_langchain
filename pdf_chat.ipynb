{
  "nbformat": 4,
  "nbformat_minor": 0,
  "metadata": {
    "colab": {
      "provenance": []
    },
    "kernelspec": {
      "name": "python3",
      "display_name": "Python 3"
    },
    "language_info": {
      "name": "python"
    }
  },
  "cells": [
    {
      "cell_type": "code",
      "execution_count": null,
      "metadata": {
        "id": "FTmZWUrN1iem"
      },
      "outputs": [],
      "source": [
        "# !pip install -U langchain-upstage\n",
        "# !pip install -U langchain-community faiss-cpu"
      ]
    },
    {
      "cell_type": "code",
      "source": [
        "from langchain_upstage import UpstageLayoutAnalysisLoader\n",
        "from langchain_core.prompts import ChatPromptTemplate\n",
        "from langchain_upstage import ChatUpstage\n",
        "from langchain_core.output_parsers import StrOutputParser\n",
        "from langchain_core.prompts import ChatPromptTemplate\n",
        "from langchain_core.runnables import RunnablePassthrough\n",
        "from langchain_core.prompts import ChatPromptTemplate\n",
        "from langchain_upstage import ChatUpstage\n",
        "import os"
      ],
      "metadata": {
        "id": "HmRghUMw4ltR"
      },
      "execution_count": null,
      "outputs": []
    },
    {
      "cell_type": "code",
      "source": [
        "os.environ[\"UPSTAGE_API_KEY\"] = \"up_8cyoE4JaMkvgfFjGncc4tajhqUK1H\""
      ],
      "metadata": {
        "id": "ShyfOHJ-4lvb"
      },
      "execution_count": null,
      "outputs": []
    },
    {
      "cell_type": "code",
      "source": [
        "import glob\n",
        "files = [file for file in glob.glob(\"/content/pdf_datasets/*\")]\n",
        "def read_dataset(files):\n",
        "    all_docs = []\n",
        "    for file_name in files:\n",
        "        # Load the file\n",
        "        file1_load = UpstageLayoutAnalysisLoader(file_name, split=\"page\")\n",
        "        docs = file1_load.load()\n",
        "        for doc in docs:\n",
        "            all_docs.append(doc)\n",
        "    return all_docs"
      ],
      "metadata": {
        "id": "c7rvXu6T4lxb"
      },
      "execution_count": null,
      "outputs": []
    },
    {
      "cell_type": "code",
      "source": [
        "# #Load the file\n",
        "# # file1_load = UpstageLayoutAnalysisLoader(file1, split=\"page\")\n",
        "# # docs = file1_load.load()\n",
        "# for doc in docs:\n",
        "#   print(doc)"
      ],
      "metadata": {
        "id": "a5UChEj24lzl"
      },
      "execution_count": null,
      "outputs": []
    },
    {
      "cell_type": "code",
      "source": [
        "from langchain_upstage import UpstageEmbeddings\n",
        "from langchain_community.vectorstores import FAISS\n",
        "embeddings = UpstageEmbeddings(\n",
        "  upstage_api_key=\"up_8cyoE4JaMkvgfFjGncc4tajhqUK1H\",\n",
        "  model=\"solar-embedding-1-large\"\n",
        ")\n",
        "# Embed and store all documents in FAISS\n",
        "docs = read_dataset(files)\n",
        "db = FAISS.from_documents(docs, embeddings)"
      ],
      "metadata": {
        "id": "w9n9qAOk6dDu"
      },
      "execution_count": null,
      "outputs": []
    },
    {
      "cell_type": "code",
      "source": [
        "# Asking the retriever to do similarity search based on Query\n",
        "# query = \"Tell me about gender bias\"\n",
        "# answer = db.similarity_search(query)\n",
        "\n",
        "# Building the retriever\n",
        "retriever = db.as_retriever(search_kwargs = {'k': 3} )"
      ],
      "metadata": {
        "id": "WWyQ4Y3H6dGB"
      },
      "execution_count": null,
      "outputs": []
    },
    {
      "cell_type": "code",
      "source": [
        "retriever"
      ],
      "metadata": {
        "id": "Hzu70SAz6dHn",
        "colab": {
          "base_uri": "https://localhost:8080/"
        },
        "outputId": "c5191023-69b3-4a87-ee40-8c71f0b408df"
      },
      "execution_count": null,
      "outputs": [
        {
          "output_type": "execute_result",
          "data": {
            "text/plain": [
              "VectorStoreRetriever(tags=['FAISS', 'UpstageEmbeddings'], vectorstore=<langchain_community.vectorstores.faiss.FAISS object at 0x7a105535d690>, search_kwargs={'k': 3})"
            ]
          },
          "metadata": {},
          "execution_count": 31
        }
      ]
    },
    {
      "cell_type": "code",
      "source": [
        "\n",
        "template = \"\"\"\n",
        "\n",
        "  You are a pdf file information retrieval AI chat assistant. Format the retrieved information as text.\n",
        "\n",
        "\n",
        "  Use only the context for your answers, do not make up information.\n",
        "\n",
        "  query: {query}\n",
        "\n",
        "  {context}\n",
        "\"\"\"\n",
        "# using chain\n",
        "prompt = ChatPromptTemplate.from_template(template)\n",
        "model = ChatUpstage()\n",
        "chain = (\n",
        "    {\n",
        "        \"context\" : retriever,\n",
        "        \"query\" : RunnablePassthrough()\n",
        "    }\n",
        "    | prompt | model | StrOutputParser()\n",
        "\n",
        ")\n"
      ],
      "metadata": {
        "id": "bw_37VQ3W9uZ"
      },
      "execution_count": null,
      "outputs": []
    },
    {
      "cell_type": "code",
      "source": [
        "chain.invoke(\"\"\" What are some of the linguistic factors that helps identifying gender bias? Use all the embedded documents for context.\n",
        "\"\"\")"
      ],
      "metadata": {
        "colab": {
          "base_uri": "https://localhost:8080/",
          "height": 88
        },
        "id": "edJtpZ57W9zv",
        "outputId": "045844d0-9aa5-4e9c-9566-25a4b2d99e8a"
      },
      "execution_count": null,
      "outputs": [
        {
          "output_type": "execute_result",
          "data": {
            "text/plain": [
              "'To identify gender bias, linguistic factors such as gender-specific pronouns, gendered nouns, and stereotypical associations with certain professions or roles can be used. These factors can be analyzed using Natural Language Processing (NLP) techniques such as Term Frequency-Inverse Document Frequency (TF-IDF) and Principal Component Analysis (PCA). Additionally, the use of gender-neutral language and avoiding stereotypes can help reduce gender bias in language.'"
            ],
            "application/vnd.google.colaboratory.intrinsic+json": {
              "type": "string"
            }
          },
          "metadata": {},
          "execution_count": 35
        }
      ]
    },
    {
      "cell_type": "code",
      "source": [],
      "metadata": {
        "id": "CIBzQdmNW91P"
      },
      "execution_count": null,
      "outputs": []
    },
    {
      "cell_type": "markdown",
      "source": [
        "References:\n",
        "1. https://python.langchain.com/v0.1/docs/integrations/document_loaders/upstage/\n",
        "2. https://medium.com/firebird-technologies/chat-with-your-pdfs-using-langchain-e57866b7926d"
      ],
      "metadata": {
        "id": "H0whmgwf497z"
      }
    }
  ]
}